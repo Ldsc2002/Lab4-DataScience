{
  "cells": [
    {
      "cell_type": "code",
      "execution_count": 1,
      "metadata": {
        "id": "oeGYjgkOdSDJ"
      },
      "outputs": [],
      "source": [
        "import tensorflow as tf\n",
        "from tensorflow.keras.preprocessing import sequence\n",
        "from tensorflow.keras.models import Sequential\n",
        "from tensorflow.keras.layers import Dense, Embedding, Input, Dropout\n",
        "from tensorflow.keras.layers import LSTM\n",
        "from tensorflow.keras.datasets import imdb\n",
        "import numpy as np\n",
        "import matplotlib.pyplot as plt\n",
        "from textblob import TextBlob\n",
        "from sklearn.preprocessing import MinMaxScaler\n",
        "from sklearn.model_selection import train_test_split\n",
        "import tqdm\n",
        "import pandas as pd"
      ]
    },
    {
      "cell_type": "code",
      "execution_count": 2,
      "metadata": {
        "colab": {
          "base_uri": "https://localhost:8080/"
        },
        "id": "4g1QfcwkdSDK",
        "outputId": "313a3724-d275-4904-c7d4-c1416e1e3ebb"
      },
      "outputs": [
        {
          "output_type": "stream",
          "name": "stdout",
          "text": [
            "Num GPUs Available:  1\n"
          ]
        }
      ],
      "source": [
        "import tensorflow as tf\n",
        "print(\"Num GPUs Available: \", len(tf.config.list_physical_devices('GPU')))"
      ]
    },
    {
      "cell_type": "code",
      "execution_count": 3,
      "metadata": {
        "colab": {
          "base_uri": "https://localhost:8080/"
        },
        "id": "_Z-SNkmfdSDL",
        "outputId": "ceacf429-2043-4464-882a-5268ba419431"
      },
      "outputs": [
        {
          "output_type": "stream",
          "name": "stdout",
          "text": [
            "Downloading data from https://storage.googleapis.com/tensorflow/tf-keras-datasets/imdb.npz\n",
            "17464789/17464789 [==============================] - 0s 0us/step\n",
            "Downloading data from https://storage.googleapis.com/tensorflow/tf-keras-datasets/imdb_word_index.json\n",
            "1641221/1641221 [==============================] - 0s 0us/step\n"
          ]
        },
        {
          "output_type": "stream",
          "name": "stderr",
          "text": [
            "100%|██████████| 50000/50000 [22:27<00:00, 37.09it/s]"
          ]
        },
        {
          "output_type": "stream",
          "name": "stdout",
          "text": [
            "                                                   X  Y  proportion\n",
            "0  [1, 14, 22, 16, 43, 530, 973, 1622, 1385, 65, ...  1    0.038095\n",
            "1  [1, 194, 1153, 194, 8255, 78, 228, 5, 6, 1463,...  0    0.061798\n",
            "2  [1, 14, 47, 8, 30, 31, 7, 4, 249, 108, 7, 4, 5...  0    0.052239\n",
            "3  [1, 4, 18609, 16085, 33, 2804, 4, 2040, 432, 1...  1    0.037736\n",
            "4  [1, 249, 1323, 7, 61, 113, 10, 10, 13, 1637, 1...  0    0.113636\n",
            "5  [1, 778, 128, 74, 12, 630, 163, 15, 4, 1766, 7...  0    0.000000\n",
            "6  [1, 6740, 365, 1234, 5, 1156, 354, 11, 14, 532...  1    0.078947\n",
            "7  [1, 4, 14906, 716, 4, 65, 7, 4, 689, 4367, 630...  0    0.040741\n",
            "8  [1, 43, 188, 46, 5, 566, 264, 51, 6, 530, 664,...  1    0.059091\n",
            "9  [1, 14, 20, 47, 111, 439, 3445, 19, 12, 15, 16...  0    0.083333\n"
          ]
        },
        {
          "output_type": "stream",
          "name": "stderr",
          "text": [
            "\n"
          ]
        }
      ],
      "source": [
        "(X_train, y_train), (X_test, y_test) = imdb.load_data(num_words=50000)\n",
        "\n",
        "X = np.concatenate((X_train, X_test), axis=0)\n",
        "y = np.concatenate((y_train, y_test), axis=0)\n",
        "\n",
        "word_to_id = imdb.get_word_index()\n",
        "word_to_id = {k:(v) for k,v in word_to_id.items()}\n",
        "id_to_word = {value:key for key,value in word_to_id.items()}\n",
        "\n",
        "df = pd.DataFrame(columns=['X', 'Y', 'proportion'])\n",
        "\n",
        "for i in tqdm.tqdm(range(len(X))):\n",
        "    positive = 0\n",
        "    negative = 0\n",
        "\n",
        "    for word in [id_to_word[id] for id in X[i]]:\n",
        "        blob = TextBlob(word)\n",
        "        polarity = blob.sentiment.polarity\n",
        "\n",
        "        if polarity > 0:\n",
        "            positive += 1\n",
        "        else:\n",
        "            negative += 1\n",
        "\n",
        "    proportion = positive / negative\n",
        "\n",
        "    df.loc[len(df)] = [X[i], y[i], proportion]\n",
        "\n",
        "print(df[:10])"
      ]
    },
    {
      "cell_type": "code",
      "source": [
        "df[:10]"
      ],
      "metadata": {
        "colab": {
          "base_uri": "https://localhost:8080/",
          "height": 363
        },
        "id": "Ka30peZKWiZT",
        "outputId": "c32d28a0-5664-4a46-a715-f23425de305c"
      },
      "execution_count": 40,
      "outputs": [
        {
          "output_type": "execute_result",
          "data": {
            "text/plain": [
              "                                                   X  Y  proportion\n",
              "0  [1, 14, 22, 16, 43, 530, 973, 1622, 1385, 65, ...  1    0.038095\n",
              "1  [1, 194, 1153, 194, 8255, 78, 228, 5, 6, 1463,...  0    0.061798\n",
              "2  [1, 14, 47, 8, 30, 31, 7, 4, 249, 108, 7, 4, 5...  0    0.052239\n",
              "3  [1, 4, 18609, 16085, 33, 2804, 4, 2040, 432, 1...  1    0.037736\n",
              "4  [1, 249, 1323, 7, 61, 113, 10, 10, 13, 1637, 1...  0    0.113636\n",
              "5  [1, 778, 128, 74, 12, 630, 163, 15, 4, 1766, 7...  0    0.000000\n",
              "6  [1, 6740, 365, 1234, 5, 1156, 354, 11, 14, 532...  1    0.078947\n",
              "7  [1, 4, 14906, 716, 4, 65, 7, 4, 689, 4367, 630...  0    0.040741\n",
              "8  [1, 43, 188, 46, 5, 566, 264, 51, 6, 530, 664,...  1    0.059091\n",
              "9  [1, 14, 20, 47, 111, 439, 3445, 19, 12, 15, 16...  0    0.083333"
            ],
            "text/html": [
              "\n",
              "  <div id=\"df-13f0c742-de79-49c7-8d1e-dc0e5f178500\" class=\"colab-df-container\">\n",
              "    <div>\n",
              "<style scoped>\n",
              "    .dataframe tbody tr th:only-of-type {\n",
              "        vertical-align: middle;\n",
              "    }\n",
              "\n",
              "    .dataframe tbody tr th {\n",
              "        vertical-align: top;\n",
              "    }\n",
              "\n",
              "    .dataframe thead th {\n",
              "        text-align: right;\n",
              "    }\n",
              "</style>\n",
              "<table border=\"1\" class=\"dataframe\">\n",
              "  <thead>\n",
              "    <tr style=\"text-align: right;\">\n",
              "      <th></th>\n",
              "      <th>X</th>\n",
              "      <th>Y</th>\n",
              "      <th>proportion</th>\n",
              "    </tr>\n",
              "  </thead>\n",
              "  <tbody>\n",
              "    <tr>\n",
              "      <th>0</th>\n",
              "      <td>[1, 14, 22, 16, 43, 530, 973, 1622, 1385, 65, ...</td>\n",
              "      <td>1</td>\n",
              "      <td>0.038095</td>\n",
              "    </tr>\n",
              "    <tr>\n",
              "      <th>1</th>\n",
              "      <td>[1, 194, 1153, 194, 8255, 78, 228, 5, 6, 1463,...</td>\n",
              "      <td>0</td>\n",
              "      <td>0.061798</td>\n",
              "    </tr>\n",
              "    <tr>\n",
              "      <th>2</th>\n",
              "      <td>[1, 14, 47, 8, 30, 31, 7, 4, 249, 108, 7, 4, 5...</td>\n",
              "      <td>0</td>\n",
              "      <td>0.052239</td>\n",
              "    </tr>\n",
              "    <tr>\n",
              "      <th>3</th>\n",
              "      <td>[1, 4, 18609, 16085, 33, 2804, 4, 2040, 432, 1...</td>\n",
              "      <td>1</td>\n",
              "      <td>0.037736</td>\n",
              "    </tr>\n",
              "    <tr>\n",
              "      <th>4</th>\n",
              "      <td>[1, 249, 1323, 7, 61, 113, 10, 10, 13, 1637, 1...</td>\n",
              "      <td>0</td>\n",
              "      <td>0.113636</td>\n",
              "    </tr>\n",
              "    <tr>\n",
              "      <th>5</th>\n",
              "      <td>[1, 778, 128, 74, 12, 630, 163, 15, 4, 1766, 7...</td>\n",
              "      <td>0</td>\n",
              "      <td>0.000000</td>\n",
              "    </tr>\n",
              "    <tr>\n",
              "      <th>6</th>\n",
              "      <td>[1, 6740, 365, 1234, 5, 1156, 354, 11, 14, 532...</td>\n",
              "      <td>1</td>\n",
              "      <td>0.078947</td>\n",
              "    </tr>\n",
              "    <tr>\n",
              "      <th>7</th>\n",
              "      <td>[1, 4, 14906, 716, 4, 65, 7, 4, 689, 4367, 630...</td>\n",
              "      <td>0</td>\n",
              "      <td>0.040741</td>\n",
              "    </tr>\n",
              "    <tr>\n",
              "      <th>8</th>\n",
              "      <td>[1, 43, 188, 46, 5, 566, 264, 51, 6, 530, 664,...</td>\n",
              "      <td>1</td>\n",
              "      <td>0.059091</td>\n",
              "    </tr>\n",
              "    <tr>\n",
              "      <th>9</th>\n",
              "      <td>[1, 14, 20, 47, 111, 439, 3445, 19, 12, 15, 16...</td>\n",
              "      <td>0</td>\n",
              "      <td>0.083333</td>\n",
              "    </tr>\n",
              "  </tbody>\n",
              "</table>\n",
              "</div>\n",
              "    <div class=\"colab-df-buttons\">\n",
              "\n",
              "  <div class=\"colab-df-container\">\n",
              "    <button class=\"colab-df-convert\" onclick=\"convertToInteractive('df-13f0c742-de79-49c7-8d1e-dc0e5f178500')\"\n",
              "            title=\"Convert this dataframe to an interactive table.\"\n",
              "            style=\"display:none;\">\n",
              "\n",
              "  <svg xmlns=\"http://www.w3.org/2000/svg\" height=\"24px\" viewBox=\"0 -960 960 960\">\n",
              "    <path d=\"M120-120v-720h720v720H120Zm60-500h600v-160H180v160Zm220 220h160v-160H400v160Zm0 220h160v-160H400v160ZM180-400h160v-160H180v160Zm440 0h160v-160H620v160ZM180-180h160v-160H180v160Zm440 0h160v-160H620v160Z\"/>\n",
              "  </svg>\n",
              "    </button>\n",
              "\n",
              "  <style>\n",
              "    .colab-df-container {\n",
              "      display:flex;\n",
              "      gap: 12px;\n",
              "    }\n",
              "\n",
              "    .colab-df-convert {\n",
              "      background-color: #E8F0FE;\n",
              "      border: none;\n",
              "      border-radius: 50%;\n",
              "      cursor: pointer;\n",
              "      display: none;\n",
              "      fill: #1967D2;\n",
              "      height: 32px;\n",
              "      padding: 0 0 0 0;\n",
              "      width: 32px;\n",
              "    }\n",
              "\n",
              "    .colab-df-convert:hover {\n",
              "      background-color: #E2EBFA;\n",
              "      box-shadow: 0px 1px 2px rgba(60, 64, 67, 0.3), 0px 1px 3px 1px rgba(60, 64, 67, 0.15);\n",
              "      fill: #174EA6;\n",
              "    }\n",
              "\n",
              "    .colab-df-buttons div {\n",
              "      margin-bottom: 4px;\n",
              "    }\n",
              "\n",
              "    [theme=dark] .colab-df-convert {\n",
              "      background-color: #3B4455;\n",
              "      fill: #D2E3FC;\n",
              "    }\n",
              "\n",
              "    [theme=dark] .colab-df-convert:hover {\n",
              "      background-color: #434B5C;\n",
              "      box-shadow: 0px 1px 3px 1px rgba(0, 0, 0, 0.15);\n",
              "      filter: drop-shadow(0px 1px 2px rgba(0, 0, 0, 0.3));\n",
              "      fill: #FFFFFF;\n",
              "    }\n",
              "  </style>\n",
              "\n",
              "    <script>\n",
              "      const buttonEl =\n",
              "        document.querySelector('#df-13f0c742-de79-49c7-8d1e-dc0e5f178500 button.colab-df-convert');\n",
              "      buttonEl.style.display =\n",
              "        google.colab.kernel.accessAllowed ? 'block' : 'none';\n",
              "\n",
              "      async function convertToInteractive(key) {\n",
              "        const element = document.querySelector('#df-13f0c742-de79-49c7-8d1e-dc0e5f178500');\n",
              "        const dataTable =\n",
              "          await google.colab.kernel.invokeFunction('convertToInteractive',\n",
              "                                                    [key], {});\n",
              "        if (!dataTable) return;\n",
              "\n",
              "        const docLinkHtml = 'Like what you see? Visit the ' +\n",
              "          '<a target=\"_blank\" href=https://colab.research.google.com/notebooks/data_table.ipynb>data table notebook</a>'\n",
              "          + ' to learn more about interactive tables.';\n",
              "        element.innerHTML = '';\n",
              "        dataTable['output_type'] = 'display_data';\n",
              "        await google.colab.output.renderOutput(dataTable, element);\n",
              "        const docLink = document.createElement('div');\n",
              "        docLink.innerHTML = docLinkHtml;\n",
              "        element.appendChild(docLink);\n",
              "      }\n",
              "    </script>\n",
              "  </div>\n",
              "\n",
              "\n",
              "<div id=\"df-77a33aa7-491f-411e-bca6-633ef3825813\">\n",
              "  <button class=\"colab-df-quickchart\" onclick=\"quickchart('df-77a33aa7-491f-411e-bca6-633ef3825813')\"\n",
              "            title=\"Suggest charts.\"\n",
              "            style=\"display:none;\">\n",
              "\n",
              "<svg xmlns=\"http://www.w3.org/2000/svg\" height=\"24px\"viewBox=\"0 0 24 24\"\n",
              "     width=\"24px\">\n",
              "    <g>\n",
              "        <path d=\"M19 3H5c-1.1 0-2 .9-2 2v14c0 1.1.9 2 2 2h14c1.1 0 2-.9 2-2V5c0-1.1-.9-2-2-2zM9 17H7v-7h2v7zm4 0h-2V7h2v10zm4 0h-2v-4h2v4z\"/>\n",
              "    </g>\n",
              "</svg>\n",
              "  </button>\n",
              "\n",
              "<style>\n",
              "  .colab-df-quickchart {\n",
              "      --bg-color: #E8F0FE;\n",
              "      --fill-color: #1967D2;\n",
              "      --hover-bg-color: #E2EBFA;\n",
              "      --hover-fill-color: #174EA6;\n",
              "      --disabled-fill-color: #AAA;\n",
              "      --disabled-bg-color: #DDD;\n",
              "  }\n",
              "\n",
              "  [theme=dark] .colab-df-quickchart {\n",
              "      --bg-color: #3B4455;\n",
              "      --fill-color: #D2E3FC;\n",
              "      --hover-bg-color: #434B5C;\n",
              "      --hover-fill-color: #FFFFFF;\n",
              "      --disabled-bg-color: #3B4455;\n",
              "      --disabled-fill-color: #666;\n",
              "  }\n",
              "\n",
              "  .colab-df-quickchart {\n",
              "    background-color: var(--bg-color);\n",
              "    border: none;\n",
              "    border-radius: 50%;\n",
              "    cursor: pointer;\n",
              "    display: none;\n",
              "    fill: var(--fill-color);\n",
              "    height: 32px;\n",
              "    padding: 0;\n",
              "    width: 32px;\n",
              "  }\n",
              "\n",
              "  .colab-df-quickchart:hover {\n",
              "    background-color: var(--hover-bg-color);\n",
              "    box-shadow: 0 1px 2px rgba(60, 64, 67, 0.3), 0 1px 3px 1px rgba(60, 64, 67, 0.15);\n",
              "    fill: var(--button-hover-fill-color);\n",
              "  }\n",
              "\n",
              "  .colab-df-quickchart-complete:disabled,\n",
              "  .colab-df-quickchart-complete:disabled:hover {\n",
              "    background-color: var(--disabled-bg-color);\n",
              "    fill: var(--disabled-fill-color);\n",
              "    box-shadow: none;\n",
              "  }\n",
              "\n",
              "  .colab-df-spinner {\n",
              "    border: 2px solid var(--fill-color);\n",
              "    border-color: transparent;\n",
              "    border-bottom-color: var(--fill-color);\n",
              "    animation:\n",
              "      spin 1s steps(1) infinite;\n",
              "  }\n",
              "\n",
              "  @keyframes spin {\n",
              "    0% {\n",
              "      border-color: transparent;\n",
              "      border-bottom-color: var(--fill-color);\n",
              "      border-left-color: var(--fill-color);\n",
              "    }\n",
              "    20% {\n",
              "      border-color: transparent;\n",
              "      border-left-color: var(--fill-color);\n",
              "      border-top-color: var(--fill-color);\n",
              "    }\n",
              "    30% {\n",
              "      border-color: transparent;\n",
              "      border-left-color: var(--fill-color);\n",
              "      border-top-color: var(--fill-color);\n",
              "      border-right-color: var(--fill-color);\n",
              "    }\n",
              "    40% {\n",
              "      border-color: transparent;\n",
              "      border-right-color: var(--fill-color);\n",
              "      border-top-color: var(--fill-color);\n",
              "    }\n",
              "    60% {\n",
              "      border-color: transparent;\n",
              "      border-right-color: var(--fill-color);\n",
              "    }\n",
              "    80% {\n",
              "      border-color: transparent;\n",
              "      border-right-color: var(--fill-color);\n",
              "      border-bottom-color: var(--fill-color);\n",
              "    }\n",
              "    90% {\n",
              "      border-color: transparent;\n",
              "      border-bottom-color: var(--fill-color);\n",
              "    }\n",
              "  }\n",
              "</style>\n",
              "\n",
              "  <script>\n",
              "    async function quickchart(key) {\n",
              "      const quickchartButtonEl =\n",
              "        document.querySelector('#' + key + ' button');\n",
              "      quickchartButtonEl.disabled = true;  // To prevent multiple clicks.\n",
              "      quickchartButtonEl.classList.add('colab-df-spinner');\n",
              "      try {\n",
              "        const charts = await google.colab.kernel.invokeFunction(\n",
              "            'suggestCharts', [key], {});\n",
              "      } catch (error) {\n",
              "        console.error('Error during call to suggestCharts:', error);\n",
              "      }\n",
              "      quickchartButtonEl.classList.remove('colab-df-spinner');\n",
              "      quickchartButtonEl.classList.add('colab-df-quickchart-complete');\n",
              "    }\n",
              "    (() => {\n",
              "      let quickchartButtonEl =\n",
              "        document.querySelector('#df-77a33aa7-491f-411e-bca6-633ef3825813 button');\n",
              "      quickchartButtonEl.style.display =\n",
              "        google.colab.kernel.accessAllowed ? 'block' : 'none';\n",
              "    })();\n",
              "  </script>\n",
              "</div>\n",
              "    </div>\n",
              "  </div>\n"
            ]
          },
          "metadata": {},
          "execution_count": 40
        }
      ]
    },
    {
      "cell_type": "code",
      "execution_count": 36,
      "metadata": {
        "id": "B9bmBucYdSDM"
      },
      "outputs": [],
      "source": [
        "X = df['X']\n",
        "y = df['Y']\n",
        "proportions = df['proportion']\n",
        "\n",
        "X = sequence.pad_sequences(X, maxlen=128)\n",
        "\n",
        "trainSplit = 0.8\n",
        "\n",
        "proportionsTest = proportions[int(len(proportions) * trainSplit):]\n",
        "proportions = proportions[:int(len(proportions) * trainSplit)]\n",
        "\n",
        "X_train, X_test, y_train, y_test = train_test_split(X, y, test_size=(1 - trainSplit), random_state=42)"
      ]
    },
    {
      "cell_type": "code",
      "execution_count": 37,
      "metadata": {
        "id": "SfAJLgnydSDM",
        "outputId": "527e1185-723a-481b-9535-9edea5e74345",
        "colab": {
          "base_uri": "https://localhost:8080/"
        }
      },
      "outputs": [
        {
          "output_type": "stream",
          "name": "stdout",
          "text": [
            "Model: \"model_8\"\n",
            "__________________________________________________________________________________________________\n",
            " Layer (type)                Output Shape                 Param #   Connected to                  \n",
            "==================================================================================================\n",
            " input_22 (InputLayer)       [(None, 128)]                0         []                            \n",
            "                                                                                                  \n",
            " embedding_10 (Embedding)    (None, 128, 128)             6400000   ['input_22[0][0]']            \n",
            "                                                                                                  \n",
            " lstm_22 (LSTM)              (None, 128, 64)              49408     ['embedding_10[0][0]']        \n",
            "                                                                                                  \n",
            " dropout_14 (Dropout)        (None, 128, 64)              0         ['lstm_22[0][0]']             \n",
            "                                                                                                  \n",
            " input_21 (InputLayer)       [(None, 1)]                  0         []                            \n",
            "                                                                                                  \n",
            " lstm_23 (LSTM)              (None, 64)                   33024     ['dropout_14[0][0]']          \n",
            "                                                                                                  \n",
            " dense_18 (Dense)            (None, 1)                    2         ['input_21[0][0]']            \n",
            "                                                                                                  \n",
            " concatenate_8 (Concatenate  (None, 65)                   0         ['lstm_23[0][0]',             \n",
            " )                                                                   'dense_18[0][0]']            \n",
            "                                                                                                  \n",
            " dense_19 (Dense)            (None, 1)                    66        ['concatenate_8[0][0]']       \n",
            "                                                                                                  \n",
            "==================================================================================================\n",
            "Total params: 6482500 (24.73 MB)\n",
            "Trainable params: 6482500 (24.73 MB)\n",
            "Non-trainable params: 0 (0.00 Byte)\n",
            "__________________________________________________________________________________________________\n"
          ]
        }
      ],
      "source": [
        "proportionInput = Input(shape=(1,))\n",
        "proportion = Dense(1, activation='sigmoid')(proportionInput)\n",
        "\n",
        "reviewInput = Input(shape=(128,))\n",
        "embedding = Embedding(50000, 128, input_length=128)(reviewInput)\n",
        "lstm = LSTM(64, dropout=0.2, return_sequences=True, kernel_regularizer=tf.keras.regularizers.l1(0.01))(embedding)\n",
        "dropout = Dropout(0.2)(lstm)\n",
        "lstm = LSTM(64, dropout=0.2, kernel_regularizer=tf.keras.regularizers.l1(0.01))(dropout)\n",
        "\n",
        "concat = tf.keras.layers.concatenate([lstm, proportion])\n",
        "dense = Dense(1, activation='sigmoid')(concat)\n",
        "\n",
        "model = tf.keras.Model(inputs=[reviewInput, proportionInput], outputs=dense)\n",
        "model.summary()"
      ]
    },
    {
      "cell_type": "code",
      "source": [
        "model.compile(\n",
        "    loss='binary_crossentropy',\n",
        "    optimizer='adam',\n",
        "    metrics=['accuracy']\n",
        ")\n",
        "\n",
        "model.fit(\n",
        "    [X_train, np.array(proportions)],\n",
        "    y_train,\n",
        "    batch_size=64,\n",
        "    epochs=5,\n",
        "    validation_data=([X_test, np.array(proportionsTest)], y_test)\n",
        ")"
      ],
      "metadata": {
        "colab": {
          "base_uri": "https://localhost:8080/"
        },
        "id": "A9j8_3MWOSV3",
        "outputId": "c0d7098b-5605-4488-b074-cb9ec2c244c1"
      },
      "execution_count": 38,
      "outputs": [
        {
          "output_type": "stream",
          "name": "stdout",
          "text": [
            "Epoch 1/5\n",
            "625/625 [==============================] - 56s 82ms/step - loss: 2.8611 - accuracy: 0.7755 - val_loss: 0.4590 - val_accuracy: 0.8497\n",
            "Epoch 2/5\n",
            "625/625 [==============================] - 17s 27ms/step - loss: 0.3664 - accuracy: 0.8969 - val_loss: 0.4300 - val_accuracy: 0.8582\n",
            "Epoch 3/5\n",
            "625/625 [==============================] - 12s 19ms/step - loss: 0.2864 - accuracy: 0.9313 - val_loss: 0.5658 - val_accuracy: 0.8484\n",
            "Epoch 4/5\n",
            "625/625 [==============================] - 12s 19ms/step - loss: 0.2382 - accuracy: 0.9491 - val_loss: 0.4616 - val_accuracy: 0.8500\n",
            "Epoch 5/5\n",
            "625/625 [==============================] - 11s 17ms/step - loss: 0.2012 - accuracy: 0.9628 - val_loss: 0.5137 - val_accuracy: 0.8498\n"
          ]
        },
        {
          "output_type": "execute_result",
          "data": {
            "text/plain": [
              "<keras.src.callbacks.History at 0x7882fcf2fb50>"
            ]
          },
          "metadata": {},
          "execution_count": 38
        }
      ]
    },
    {
      "cell_type": "code",
      "execution_count": 39,
      "metadata": {
        "id": "FLEoCeo9dSDN",
        "outputId": "f60e6a45-5853-47c9-a122-7f61a06d537e",
        "colab": {
          "base_uri": "https://localhost:8080/"
        }
      },
      "outputs": [
        {
          "output_type": "stream",
          "name": "stdout",
          "text": [
            "313/313 [==============================] - 2s 7ms/step - loss: 0.5137 - accuracy: 0.8498\n",
            "Test Accuracy: 84.979999\n"
          ]
        }
      ],
      "source": [
        "loss, acc = model.evaluate([X_test, np.array(proportionsTest)], y_test, batch_size=32)\n",
        "print('Test Accuracy: %f' % (acc*100))"
      ]
    }
  ],
  "metadata": {
    "kernelspec": {
      "display_name": "Python 3",
      "name": "python3"
    },
    "language_info": {
      "codemirror_mode": {
        "name": "ipython",
        "version": 3
      },
      "file_extension": ".py",
      "mimetype": "text/x-python",
      "name": "python",
      "nbconvert_exporter": "python",
      "pygments_lexer": "ipython3",
      "version": "3.11.4"
    },
    "orig_nbformat": 4,
    "colab": {
      "provenance": [],
      "gpuType": "T4"
    },
    "accelerator": "GPU"
  },
  "nbformat": 4,
  "nbformat_minor": 0
}