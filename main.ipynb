{
 "cells": [
  {
   "cell_type": "code",
   "execution_count": 28,
   "metadata": {},
   "outputs": [],
   "source": [
    "import tensorflow as tf\n",
    "from tensorflow.keras.preprocessing import sequence\n",
    "from tensorflow.keras.models import Sequential\n",
    "from tensorflow.keras.layers import Dense, Embedding, Input, Dropout\n",
    "from tensorflow.keras.layers import LSTM\n",
    "from tensorflow.keras.datasets import imdb\n",
    "import numpy as np\n",
    "import matplotlib.pyplot as plt\n",
    "from textblob import TextBlob\n",
    "from sklearn.preprocessing import MinMaxScaler\n",
    "from sklearn.model_selection import train_test_split\n",
    "import tqdm\n",
    "import pandas as pd"
   ]
  },
  {
   "cell_type": "code",
   "execution_count": 29,
   "metadata": {},
   "outputs": [
    {
     "name": "stderr",
     "output_type": "stream",
     "text": [
      "100%|██████████| 50000/50000 [07:12<00:00, 115.58it/s]"
     ]
    },
    {
     "name": "stdout",
     "output_type": "stream",
     "text": [
      "                                                   X  Y  proportion\n",
      "0  [1, 14, 22, 16, 43, 530, 973, 1622, 1385, 65, ...  1    0.038095\n",
      "1  [1, 194, 1153, 194, 8255, 78, 228, 5, 6, 1463,...  0    0.061798\n",
      "2  [1, 14, 47, 8, 30, 31, 7, 4, 249, 108, 7, 4, 5...  0    0.052239\n",
      "3  [1, 4, 18609, 16085, 33, 2804, 4, 2040, 432, 1...  1    0.037736\n",
      "4  [1, 249, 1323, 7, 61, 113, 10, 10, 13, 1637, 1...  0    0.113636\n",
      "5  [1, 778, 128, 74, 12, 630, 163, 15, 4, 1766, 7...  0    0.000000\n",
      "6  [1, 6740, 365, 1234, 5, 1156, 354, 11, 14, 532...  1    0.078947\n",
      "7  [1, 4, 14906, 716, 4, 65, 7, 4, 689, 4367, 630...  0    0.040741\n",
      "8  [1, 43, 188, 46, 5, 566, 264, 51, 6, 530, 664,...  1    0.059091\n",
      "9  [1, 14, 20, 47, 111, 439, 3445, 19, 12, 15, 16...  0    0.083333\n"
     ]
    },
    {
     "name": "stderr",
     "output_type": "stream",
     "text": [
      "\n"
     ]
    }
   ],
   "source": [
    "(X_train, y_train), (X_test, y_test) = imdb.load_data(num_words=50000)\n",
    "\n",
    "X = np.concatenate((X_train, X_test), axis=0)\n",
    "y = np.concatenate((y_train, y_test), axis=0)\n",
    "\n",
    "word_to_id = imdb.get_word_index()\n",
    "word_to_id = {k:(v) for k,v in word_to_id.items()}\n",
    "id_to_word = {value:key for key,value in word_to_id.items()}\n",
    "\n",
    "df = pd.DataFrame(columns=['X', 'Y', 'proportion']) \n",
    "\n",
    "for i in tqdm.tqdm(range(len(X))):\n",
    "    positive = 0\n",
    "    negative = 0\n",
    "\n",
    "    for word in [id_to_word[id] for id in X[i]]:\n",
    "        blob = TextBlob(word)\n",
    "        polarity = blob.sentiment.polarity\n",
    "\n",
    "        if polarity > 0:\n",
    "            positive += 1\n",
    "        else:\n",
    "            negative += 1\n",
    "\n",
    "    proportion = positive / negative\n",
    "\n",
    "    df.loc[len(df)] = [X[i], y[i], proportion]\n",
    "\n",
    "print(df[:10])"
   ]
  },
  {
   "cell_type": "code",
   "execution_count": 30,
   "metadata": {},
   "outputs": [],
   "source": [
    "X = df['X']\n",
    "y = df['Y']\n",
    "proportions = df['proportion']\n",
    "\n",
    "X = sequence.pad_sequences(X, maxlen=128)\n",
    "\n",
    "trainSplit = 0.8\n",
    "        \n",
    "proportionsTest = proportions[int(len(proportions) * trainSplit):]\n",
    "proportions = proportions[:int(len(proportions) * trainSplit)]\n",
    "\n",
    "X_train, X_test, y_train, y_test = train_test_split(X, y, test_size=(1 - trainSplit), random_state=42)"
   ]
  },
  {
   "cell_type": "code",
   "execution_count": 31,
   "metadata": {},
   "outputs": [
    {
     "name": "stdout",
     "output_type": "stream",
     "text": [
      "Epoch 1/5\n",
      "625/625 [==============================] - 42s 62ms/step - loss: 2.8089 - accuracy: 0.7756 - val_loss: 0.4304 - val_accuracy: 0.8586\n",
      "Epoch 2/5\n",
      "625/625 [==============================] - 31s 50ms/step - loss: 0.3442 - accuracy: 0.9033 - val_loss: 0.4107 - val_accuracy: 0.8664\n",
      "Epoch 3/5\n",
      "625/625 [==============================] - 30s 48ms/step - loss: 0.2727 - accuracy: 0.9337 - val_loss: 0.4346 - val_accuracy: 0.8511\n",
      "Epoch 4/5\n",
      "625/625 [==============================] - 29s 46ms/step - loss: 0.2221 - accuracy: 0.9538 - val_loss: 0.4236 - val_accuracy: 0.8599\n",
      "Epoch 5/5\n",
      "625/625 [==============================] - 27s 43ms/step - loss: 0.1939 - accuracy: 0.9632 - val_loss: 0.5426 - val_accuracy: 0.8410\n"
     ]
    },
    {
     "data": {
      "text/plain": [
       "<keras.src.callbacks.History at 0x2cee51de0>"
      ]
     },
     "execution_count": 31,
     "metadata": {},
     "output_type": "execute_result"
    }
   ],
   "source": [
    "proportionInput = Input(shape=(1,))\n",
    "proportion = Dense(1, activation='sigmoid')(proportionInput)\n",
    "\n",
    "reviewInput = Input(shape=(128,))\n",
    "embedding = Embedding(50000, 128, input_length=128)(reviewInput)\n",
    "lstm = LSTM(64, dropout=0.2, return_sequences=True, kernel_regularizer=tf.keras.regularizers.l1(0.01))(embedding)\n",
    "dropout = Dropout(0.2)(lstm)\n",
    "lstm = LSTM(64, dropout=0.2, kernel_regularizer=tf.keras.regularizers.l1(0.01))(dropout)\n",
    "\n",
    "concat = tf.keras.layers.concatenate([lstm, proportion])\n",
    "dense = Dense(1, activation='sigmoid')(concat)\n",
    "\n",
    "model = tf.keras.Model(inputs=[reviewInput, proportionInput], outputs=dense)\n",
    "\n",
    "model.compile(\n",
    "    loss='binary_crossentropy',\n",
    "    optimizer='adam',\n",
    "    metrics=['accuracy']\n",
    ")\n",
    "\n",
    "model.fit(\n",
    "    [X_train, np.array(proportions)],\n",
    "    y_train,\n",
    "    batch_size=64,\n",
    "    epochs=5,\n",
    "    validation_data=([X_test, np.array(proportionsTest)], y_test)\n",
    ")"
   ]
  },
  {
   "cell_type": "code",
   "execution_count": 32,
   "metadata": {},
   "outputs": [],
   "source": [
    "# loss, acc = model.evaluate([X_test, np.array(proportionsTest)], y_test, batch_size=32)\n",
    "# print('Test Accuracy: %f' % (acc*100))"
   ]
  }
 ],
 "metadata": {
  "kernelspec": {
   "display_name": "base",
   "language": "python",
   "name": "python3"
  },
  "language_info": {
   "codemirror_mode": {
    "name": "ipython",
    "version": 3
   },
   "file_extension": ".py",
   "mimetype": "text/x-python",
   "name": "python",
   "nbconvert_exporter": "python",
   "pygments_lexer": "ipython3",
   "version": "3.10.10"
  },
  "orig_nbformat": 4
 },
 "nbformat": 4,
 "nbformat_minor": 2
}
